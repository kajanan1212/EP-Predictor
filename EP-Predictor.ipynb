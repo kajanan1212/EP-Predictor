{
 "cells": [
  {
   "cell_type": "code",
   "execution_count": 1,
   "id": "843570a6",
   "metadata": {},
   "outputs": [],
   "source": [
    "import numpy as np\n",
    "import pandas as pd\n",
    "import matplotlib.pyplot as plt\n",
    "import seaborn as sns"
   ]
  },
  {
   "cell_type": "code",
   "execution_count": 2,
   "id": "f3c75721",
   "metadata": {},
   "outputs": [],
   "source": [
    "train_path = \"data/train.csv\"\n",
    "test_path = \"data/test.csv\""
   ]
  },
  {
   "cell_type": "code",
   "execution_count": 4,
   "id": "7e6b3fff",
   "metadata": {},
   "outputs": [
    {
     "name": "stdout",
     "output_type": "stream",
     "text": [
      "(8500, 6)\n"
     ]
    },
    {
     "data": {
      "text/html": [
       "<div>\n",
       "<style scoped>\n",
       "    .dataframe tbody tr th:only-of-type {\n",
       "        vertical-align: middle;\n",
       "    }\n",
       "\n",
       "    .dataframe tbody tr th {\n",
       "        vertical-align: top;\n",
       "    }\n",
       "\n",
       "    .dataframe thead th {\n",
       "        text-align: right;\n",
       "    }\n",
       "</style>\n",
       "<table border=\"1\" class=\"dataframe\">\n",
       "  <thead>\n",
       "    <tr style=\"text-align: right;\">\n",
       "      <th></th>\n",
       "      <th>ID</th>\n",
       "      <th>AT</th>\n",
       "      <th>V</th>\n",
       "      <th>AP</th>\n",
       "      <th>RH</th>\n",
       "      <th>EP</th>\n",
       "    </tr>\n",
       "  </thead>\n",
       "  <tbody>\n",
       "    <tr>\n",
       "      <th>0</th>\n",
       "      <td>1</td>\n",
       "      <td>28.62</td>\n",
       "      <td>69.71</td>\n",
       "      <td>1009.67</td>\n",
       "      <td>62.12</td>\n",
       "      <td>437.52</td>\n",
       "    </tr>\n",
       "    <tr>\n",
       "      <th>1</th>\n",
       "      <td>2</td>\n",
       "      <td>14.84</td>\n",
       "      <td>41.48</td>\n",
       "      <td>1017.26</td>\n",
       "      <td>63.42</td>\n",
       "      <td>460.30</td>\n",
       "    </tr>\n",
       "    <tr>\n",
       "      <th>2</th>\n",
       "      <td>3</td>\n",
       "      <td>26.04</td>\n",
       "      <td>74.67</td>\n",
       "      <td>1016.68</td>\n",
       "      <td>81.20</td>\n",
       "      <td>433.55</td>\n",
       "    </tr>\n",
       "    <tr>\n",
       "      <th>3</th>\n",
       "      <td>4</td>\n",
       "      <td>13.55</td>\n",
       "      <td>42.99</td>\n",
       "      <td>1007.58</td>\n",
       "      <td>97.55</td>\n",
       "      <td>470.82</td>\n",
       "    </tr>\n",
       "    <tr>\n",
       "      <th>4</th>\n",
       "      <td>5</td>\n",
       "      <td>20.10</td>\n",
       "      <td>59.87</td>\n",
       "      <td>1018.97</td>\n",
       "      <td>87.23</td>\n",
       "      <td>444.71</td>\n",
       "    </tr>\n",
       "  </tbody>\n",
       "</table>\n",
       "</div>"
      ],
      "text/plain": [
       "   ID     AT      V       AP     RH      EP\n",
       "0   1  28.62  69.71  1009.67  62.12  437.52\n",
       "1   2  14.84  41.48  1017.26  63.42  460.30\n",
       "2   3  26.04  74.67  1016.68  81.20  433.55\n",
       "3   4  13.55  42.99  1007.58  97.55  470.82\n",
       "4   5  20.10  59.87  1018.97  87.23  444.71"
      ]
     },
     "execution_count": 4,
     "metadata": {},
     "output_type": "execute_result"
    }
   ],
   "source": [
    "train_df = pd.read_csv(train_path)\n",
    "print(train_df.shape)\n",
    "train_df.head()"
   ]
  },
  {
   "cell_type": "code",
   "execution_count": 5,
   "id": "309d0227",
   "metadata": {},
   "outputs": [
    {
     "name": "stdout",
     "output_type": "stream",
     "text": [
      "(1068, 5)\n"
     ]
    },
    {
     "data": {
      "text/html": [
       "<div>\n",
       "<style scoped>\n",
       "    .dataframe tbody tr th:only-of-type {\n",
       "        vertical-align: middle;\n",
       "    }\n",
       "\n",
       "    .dataframe tbody tr th {\n",
       "        vertical-align: top;\n",
       "    }\n",
       "\n",
       "    .dataframe thead th {\n",
       "        text-align: right;\n",
       "    }\n",
       "</style>\n",
       "<table border=\"1\" class=\"dataframe\">\n",
       "  <thead>\n",
       "    <tr style=\"text-align: right;\">\n",
       "      <th></th>\n",
       "      <th>ID</th>\n",
       "      <th>AT</th>\n",
       "      <th>V</th>\n",
       "      <th>AP</th>\n",
       "      <th>RH</th>\n",
       "    </tr>\n",
       "  </thead>\n",
       "  <tbody>\n",
       "    <tr>\n",
       "      <th>0</th>\n",
       "      <td>8501</td>\n",
       "      <td>8.91</td>\n",
       "      <td>40.69</td>\n",
       "      <td>1015.11</td>\n",
       "      <td>89.65</td>\n",
       "    </tr>\n",
       "    <tr>\n",
       "      <th>1</th>\n",
       "      <td>8502</td>\n",
       "      <td>25.63</td>\n",
       "      <td>48.92</td>\n",
       "      <td>1009.99</td>\n",
       "      <td>34.64</td>\n",
       "    </tr>\n",
       "    <tr>\n",
       "      <th>2</th>\n",
       "      <td>8503</td>\n",
       "      <td>18.98</td>\n",
       "      <td>60.10</td>\n",
       "      <td>1010.09</td>\n",
       "      <td>85.34</td>\n",
       "    </tr>\n",
       "    <tr>\n",
       "      <th>3</th>\n",
       "      <td>8504</td>\n",
       "      <td>8.02</td>\n",
       "      <td>39.04</td>\n",
       "      <td>1018.49</td>\n",
       "      <td>68.07</td>\n",
       "    </tr>\n",
       "    <tr>\n",
       "      <th>4</th>\n",
       "      <td>8505</td>\n",
       "      <td>34.10</td>\n",
       "      <td>73.03</td>\n",
       "      <td>1014.01</td>\n",
       "      <td>41.26</td>\n",
       "    </tr>\n",
       "  </tbody>\n",
       "</table>\n",
       "</div>"
      ],
      "text/plain": [
       "     ID     AT      V       AP     RH\n",
       "0  8501   8.91  40.69  1015.11  89.65\n",
       "1  8502  25.63  48.92  1009.99  34.64\n",
       "2  8503  18.98  60.10  1010.09  85.34\n",
       "3  8504   8.02  39.04  1018.49  68.07\n",
       "4  8505  34.10  73.03  1014.01  41.26"
      ]
     },
     "execution_count": 5,
     "metadata": {},
     "output_type": "execute_result"
    }
   ],
   "source": [
    "test_df = pd.read_csv(test_path)\n",
    "print(test_df.shape)\n",
    "test_df.head()"
   ]
  },
  {
   "cell_type": "code",
   "execution_count": 8,
   "id": "0ae48603",
   "metadata": {},
   "outputs": [
    {
     "name": "stdout",
     "output_type": "stream",
     "text": [
      "<class 'pandas.core.frame.DataFrame'>\n",
      "RangeIndex: 8500 entries, 0 to 8499\n",
      "Data columns (total 6 columns):\n",
      " #   Column  Non-Null Count  Dtype  \n",
      "---  ------  --------------  -----  \n",
      " 0   ID      8500 non-null   int64  \n",
      " 1   AT      8500 non-null   float64\n",
      " 2   V       8500 non-null   float64\n",
      " 3   AP      8500 non-null   float64\n",
      " 4   RH      8500 non-null   float64\n",
      " 5   EP      8500 non-null   float64\n",
      "dtypes: float64(5), int64(1)\n",
      "memory usage: 398.6 KB\n"
     ]
    }
   ],
   "source": [
    "train_df.info()"
   ]
  },
  {
   "cell_type": "code",
   "execution_count": 6,
   "id": "24298a90",
   "metadata": {},
   "outputs": [
    {
     "data": {
      "text/html": [
       "<div>\n",
       "<style scoped>\n",
       "    .dataframe tbody tr th:only-of-type {\n",
       "        vertical-align: middle;\n",
       "    }\n",
       "\n",
       "    .dataframe tbody tr th {\n",
       "        vertical-align: top;\n",
       "    }\n",
       "\n",
       "    .dataframe thead th {\n",
       "        text-align: right;\n",
       "    }\n",
       "</style>\n",
       "<table border=\"1\" class=\"dataframe\">\n",
       "  <thead>\n",
       "    <tr style=\"text-align: right;\">\n",
       "      <th></th>\n",
       "      <th>ID</th>\n",
       "      <th>AT</th>\n",
       "      <th>V</th>\n",
       "      <th>AP</th>\n",
       "      <th>RH</th>\n",
       "      <th>EP</th>\n",
       "    </tr>\n",
       "  </thead>\n",
       "  <tbody>\n",
       "    <tr>\n",
       "      <th>count</th>\n",
       "      <td>8500.000000</td>\n",
       "      <td>8500.000000</td>\n",
       "      <td>8500.000000</td>\n",
       "      <td>8500.000000</td>\n",
       "      <td>8500.000000</td>\n",
       "      <td>8500.00000</td>\n",
       "    </tr>\n",
       "    <tr>\n",
       "      <th>mean</th>\n",
       "      <td>4250.500000</td>\n",
       "      <td>19.656261</td>\n",
       "      <td>54.310672</td>\n",
       "      <td>1013.254513</td>\n",
       "      <td>73.354868</td>\n",
       "      <td>454.33872</td>\n",
       "    </tr>\n",
       "    <tr>\n",
       "      <th>std</th>\n",
       "      <td>2453.882977</td>\n",
       "      <td>7.451720</td>\n",
       "      <td>12.699757</td>\n",
       "      <td>5.936605</td>\n",
       "      <td>14.628062</td>\n",
       "      <td>17.06837</td>\n",
       "    </tr>\n",
       "    <tr>\n",
       "      <th>min</th>\n",
       "      <td>1.000000</td>\n",
       "      <td>1.810000</td>\n",
       "      <td>25.360000</td>\n",
       "      <td>992.890000</td>\n",
       "      <td>25.560000</td>\n",
       "      <td>420.26000</td>\n",
       "    </tr>\n",
       "    <tr>\n",
       "      <th>25%</th>\n",
       "      <td>2125.750000</td>\n",
       "      <td>13.527500</td>\n",
       "      <td>41.740000</td>\n",
       "      <td>1009.117500</td>\n",
       "      <td>63.380000</td>\n",
       "      <td>439.72750</td>\n",
       "    </tr>\n",
       "    <tr>\n",
       "      <th>50%</th>\n",
       "      <td>4250.500000</td>\n",
       "      <td>20.360000</td>\n",
       "      <td>52.080000</td>\n",
       "      <td>1012.945000</td>\n",
       "      <td>75.025000</td>\n",
       "      <td>451.44000</td>\n",
       "    </tr>\n",
       "    <tr>\n",
       "      <th>75%</th>\n",
       "      <td>6375.250000</td>\n",
       "      <td>25.712500</td>\n",
       "      <td>66.540000</td>\n",
       "      <td>1017.240000</td>\n",
       "      <td>84.920000</td>\n",
       "      <td>468.43000</td>\n",
       "    </tr>\n",
       "    <tr>\n",
       "      <th>max</th>\n",
       "      <td>8500.000000</td>\n",
       "      <td>35.770000</td>\n",
       "      <td>80.250000</td>\n",
       "      <td>1033.290000</td>\n",
       "      <td>100.160000</td>\n",
       "      <td>495.76000</td>\n",
       "    </tr>\n",
       "  </tbody>\n",
       "</table>\n",
       "</div>"
      ],
      "text/plain": [
       "                ID           AT            V           AP           RH  \\\n",
       "count  8500.000000  8500.000000  8500.000000  8500.000000  8500.000000   \n",
       "mean   4250.500000    19.656261    54.310672  1013.254513    73.354868   \n",
       "std    2453.882977     7.451720    12.699757     5.936605    14.628062   \n",
       "min       1.000000     1.810000    25.360000   992.890000    25.560000   \n",
       "25%    2125.750000    13.527500    41.740000  1009.117500    63.380000   \n",
       "50%    4250.500000    20.360000    52.080000  1012.945000    75.025000   \n",
       "75%    6375.250000    25.712500    66.540000  1017.240000    84.920000   \n",
       "max    8500.000000    35.770000    80.250000  1033.290000   100.160000   \n",
       "\n",
       "               EP  \n",
       "count  8500.00000  \n",
       "mean    454.33872  \n",
       "std      17.06837  \n",
       "min     420.26000  \n",
       "25%     439.72750  \n",
       "50%     451.44000  \n",
       "75%     468.43000  \n",
       "max     495.76000  "
      ]
     },
     "execution_count": 6,
     "metadata": {},
     "output_type": "execute_result"
    }
   ],
   "source": [
    "train_df.describe()"
   ]
  },
  {
   "cell_type": "code",
   "execution_count": 7,
   "id": "241f6ddc",
   "metadata": {},
   "outputs": [
    {
     "data": {
      "text/plain": [
       "ID    0\n",
       "AT    0\n",
       "V     0\n",
       "AP    0\n",
       "RH    0\n",
       "EP    0\n",
       "dtype: int64"
      ]
     },
     "execution_count": 7,
     "metadata": {},
     "output_type": "execute_result"
    }
   ],
   "source": [
    "train_df.isnull().sum()"
   ]
  },
  {
   "cell_type": "code",
   "execution_count": null,
   "id": "4e597e46",
   "metadata": {},
   "outputs": [],
   "source": []
  }
 ],
 "metadata": {
  "kernelspec": {
   "display_name": "Python 3 (ipykernel)",
   "language": "python",
   "name": "python3"
  },
  "language_info": {
   "codemirror_mode": {
    "name": "ipython",
    "version": 3
   },
   "file_extension": ".py",
   "mimetype": "text/x-python",
   "name": "python",
   "nbconvert_exporter": "python",
   "pygments_lexer": "ipython3",
   "version": "3.9.7"
  }
 },
 "nbformat": 4,
 "nbformat_minor": 5
}
