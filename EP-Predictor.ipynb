{
 "cells": [
  {
   "cell_type": "code",
   "execution_count": 1,
   "id": "843570a6",
   "metadata": {},
   "outputs": [],
   "source": [
    "import numpy as np\n",
    "import pandas as pd\n",
    "import matplotlib.pyplot as plt\n",
    "import seaborn as sns\n",
    "\n",
    "from sklearn.linear_model import LinearRegression\n",
    "from sklearn.neighbors import KNeighborsRegressor\n",
    "from sklearn.ensemble import RandomForestRegressor\n",
    "from sklearn.ensemble import BaggingRegressor\n",
    "\n",
    "from sklearn.model_selection import train_test_split\n",
    "from sklearn.preprocessing import StandardScaler, MinMaxScaler\n",
    "from sklearn.pipeline import Pipeline\n",
    "from sklearn.metrics import mean_absolute_error, r2_score"
   ]
  },
  {
   "cell_type": "code",
   "execution_count": 2,
   "id": "f3c75721",
   "metadata": {},
   "outputs": [],
   "source": [
    "train_path = \"data/train.csv\"\n",
    "test_path = \"data/test.csv\"\n",
    "submission_path = \"submission/2-RF-100-30.csv\"\n",
    "rs = 42"
   ]
  },
  {
   "cell_type": "code",
   "execution_count": 3,
   "id": "7e6b3fff",
   "metadata": {},
   "outputs": [
    {
     "name": "stdout",
     "output_type": "stream",
     "text": [
      "(8500, 6)\n"
     ]
    },
    {
     "data": {
      "text/html": [
       "<div>\n",
       "<style scoped>\n",
       "    .dataframe tbody tr th:only-of-type {\n",
       "        vertical-align: middle;\n",
       "    }\n",
       "\n",
       "    .dataframe tbody tr th {\n",
       "        vertical-align: top;\n",
       "    }\n",
       "\n",
       "    .dataframe thead th {\n",
       "        text-align: right;\n",
       "    }\n",
       "</style>\n",
       "<table border=\"1\" class=\"dataframe\">\n",
       "  <thead>\n",
       "    <tr style=\"text-align: right;\">\n",
       "      <th></th>\n",
       "      <th>ID</th>\n",
       "      <th>AT</th>\n",
       "      <th>V</th>\n",
       "      <th>AP</th>\n",
       "      <th>RH</th>\n",
       "      <th>EP</th>\n",
       "    </tr>\n",
       "  </thead>\n",
       "  <tbody>\n",
       "    <tr>\n",
       "      <th>0</th>\n",
       "      <td>1</td>\n",
       "      <td>28.62</td>\n",
       "      <td>69.71</td>\n",
       "      <td>1009.67</td>\n",
       "      <td>62.12</td>\n",
       "      <td>437.52</td>\n",
       "    </tr>\n",
       "    <tr>\n",
       "      <th>1</th>\n",
       "      <td>2</td>\n",
       "      <td>14.84</td>\n",
       "      <td>41.48</td>\n",
       "      <td>1017.26</td>\n",
       "      <td>63.42</td>\n",
       "      <td>460.30</td>\n",
       "    </tr>\n",
       "    <tr>\n",
       "      <th>2</th>\n",
       "      <td>3</td>\n",
       "      <td>26.04</td>\n",
       "      <td>74.67</td>\n",
       "      <td>1016.68</td>\n",
       "      <td>81.20</td>\n",
       "      <td>433.55</td>\n",
       "    </tr>\n",
       "    <tr>\n",
       "      <th>3</th>\n",
       "      <td>4</td>\n",
       "      <td>13.55</td>\n",
       "      <td>42.99</td>\n",
       "      <td>1007.58</td>\n",
       "      <td>97.55</td>\n",
       "      <td>470.82</td>\n",
       "    </tr>\n",
       "    <tr>\n",
       "      <th>4</th>\n",
       "      <td>5</td>\n",
       "      <td>20.10</td>\n",
       "      <td>59.87</td>\n",
       "      <td>1018.97</td>\n",
       "      <td>87.23</td>\n",
       "      <td>444.71</td>\n",
       "    </tr>\n",
       "  </tbody>\n",
       "</table>\n",
       "</div>"
      ],
      "text/plain": [
       "   ID     AT      V       AP     RH      EP\n",
       "0   1  28.62  69.71  1009.67  62.12  437.52\n",
       "1   2  14.84  41.48  1017.26  63.42  460.30\n",
       "2   3  26.04  74.67  1016.68  81.20  433.55\n",
       "3   4  13.55  42.99  1007.58  97.55  470.82\n",
       "4   5  20.10  59.87  1018.97  87.23  444.71"
      ]
     },
     "execution_count": 3,
     "metadata": {},
     "output_type": "execute_result"
    }
   ],
   "source": [
    "train_df = pd.read_csv(train_path)\n",
    "print(train_df.shape)\n",
    "train_df.head()"
   ]
  },
  {
   "cell_type": "code",
   "execution_count": 4,
   "id": "309d0227",
   "metadata": {},
   "outputs": [
    {
     "name": "stdout",
     "output_type": "stream",
     "text": [
      "(1068, 5)\n"
     ]
    },
    {
     "data": {
      "text/html": [
       "<div>\n",
       "<style scoped>\n",
       "    .dataframe tbody tr th:only-of-type {\n",
       "        vertical-align: middle;\n",
       "    }\n",
       "\n",
       "    .dataframe tbody tr th {\n",
       "        vertical-align: top;\n",
       "    }\n",
       "\n",
       "    .dataframe thead th {\n",
       "        text-align: right;\n",
       "    }\n",
       "</style>\n",
       "<table border=\"1\" class=\"dataframe\">\n",
       "  <thead>\n",
       "    <tr style=\"text-align: right;\">\n",
       "      <th></th>\n",
       "      <th>ID</th>\n",
       "      <th>AT</th>\n",
       "      <th>V</th>\n",
       "      <th>AP</th>\n",
       "      <th>RH</th>\n",
       "    </tr>\n",
       "  </thead>\n",
       "  <tbody>\n",
       "    <tr>\n",
       "      <th>0</th>\n",
       "      <td>8501</td>\n",
       "      <td>8.91</td>\n",
       "      <td>40.69</td>\n",
       "      <td>1015.11</td>\n",
       "      <td>89.65</td>\n",
       "    </tr>\n",
       "    <tr>\n",
       "      <th>1</th>\n",
       "      <td>8502</td>\n",
       "      <td>25.63</td>\n",
       "      <td>48.92</td>\n",
       "      <td>1009.99</td>\n",
       "      <td>34.64</td>\n",
       "    </tr>\n",
       "    <tr>\n",
       "      <th>2</th>\n",
       "      <td>8503</td>\n",
       "      <td>18.98</td>\n",
       "      <td>60.10</td>\n",
       "      <td>1010.09</td>\n",
       "      <td>85.34</td>\n",
       "    </tr>\n",
       "    <tr>\n",
       "      <th>3</th>\n",
       "      <td>8504</td>\n",
       "      <td>8.02</td>\n",
       "      <td>39.04</td>\n",
       "      <td>1018.49</td>\n",
       "      <td>68.07</td>\n",
       "    </tr>\n",
       "    <tr>\n",
       "      <th>4</th>\n",
       "      <td>8505</td>\n",
       "      <td>34.10</td>\n",
       "      <td>73.03</td>\n",
       "      <td>1014.01</td>\n",
       "      <td>41.26</td>\n",
       "    </tr>\n",
       "  </tbody>\n",
       "</table>\n",
       "</div>"
      ],
      "text/plain": [
       "     ID     AT      V       AP     RH\n",
       "0  8501   8.91  40.69  1015.11  89.65\n",
       "1  8502  25.63  48.92  1009.99  34.64\n",
       "2  8503  18.98  60.10  1010.09  85.34\n",
       "3  8504   8.02  39.04  1018.49  68.07\n",
       "4  8505  34.10  73.03  1014.01  41.26"
      ]
     },
     "execution_count": 4,
     "metadata": {},
     "output_type": "execute_result"
    }
   ],
   "source": [
    "test_df = pd.read_csv(test_path)\n",
    "print(test_df.shape)\n",
    "test_df.head()"
   ]
  },
  {
   "cell_type": "code",
   "execution_count": 5,
   "id": "0ae48603",
   "metadata": {},
   "outputs": [
    {
     "name": "stdout",
     "output_type": "stream",
     "text": [
      "<class 'pandas.core.frame.DataFrame'>\n",
      "RangeIndex: 8500 entries, 0 to 8499\n",
      "Data columns (total 6 columns):\n",
      " #   Column  Non-Null Count  Dtype  \n",
      "---  ------  --------------  -----  \n",
      " 0   ID      8500 non-null   int64  \n",
      " 1   AT      8500 non-null   float64\n",
      " 2   V       8500 non-null   float64\n",
      " 3   AP      8500 non-null   float64\n",
      " 4   RH      8500 non-null   float64\n",
      " 5   EP      8500 non-null   float64\n",
      "dtypes: float64(5), int64(1)\n",
      "memory usage: 398.6 KB\n"
     ]
    }
   ],
   "source": [
    "train_df.info()"
   ]
  },
  {
   "cell_type": "code",
   "execution_count": 6,
   "id": "24298a90",
   "metadata": {},
   "outputs": [
    {
     "data": {
      "text/html": [
       "<div>\n",
       "<style scoped>\n",
       "    .dataframe tbody tr th:only-of-type {\n",
       "        vertical-align: middle;\n",
       "    }\n",
       "\n",
       "    .dataframe tbody tr th {\n",
       "        vertical-align: top;\n",
       "    }\n",
       "\n",
       "    .dataframe thead th {\n",
       "        text-align: right;\n",
       "    }\n",
       "</style>\n",
       "<table border=\"1\" class=\"dataframe\">\n",
       "  <thead>\n",
       "    <tr style=\"text-align: right;\">\n",
       "      <th></th>\n",
       "      <th>count</th>\n",
       "      <th>mean</th>\n",
       "      <th>std</th>\n",
       "      <th>min</th>\n",
       "      <th>25%</th>\n",
       "      <th>50%</th>\n",
       "      <th>75%</th>\n",
       "      <th>max</th>\n",
       "    </tr>\n",
       "  </thead>\n",
       "  <tbody>\n",
       "    <tr>\n",
       "      <th>AT</th>\n",
       "      <td>8500.0</td>\n",
       "      <td>19.656261</td>\n",
       "      <td>7.451720</td>\n",
       "      <td>1.81</td>\n",
       "      <td>13.5275</td>\n",
       "      <td>20.360</td>\n",
       "      <td>25.7125</td>\n",
       "      <td>35.77</td>\n",
       "    </tr>\n",
       "    <tr>\n",
       "      <th>V</th>\n",
       "      <td>8500.0</td>\n",
       "      <td>54.310672</td>\n",
       "      <td>12.699757</td>\n",
       "      <td>25.36</td>\n",
       "      <td>41.7400</td>\n",
       "      <td>52.080</td>\n",
       "      <td>66.5400</td>\n",
       "      <td>80.25</td>\n",
       "    </tr>\n",
       "    <tr>\n",
       "      <th>AP</th>\n",
       "      <td>8500.0</td>\n",
       "      <td>1013.254513</td>\n",
       "      <td>5.936605</td>\n",
       "      <td>992.89</td>\n",
       "      <td>1009.1175</td>\n",
       "      <td>1012.945</td>\n",
       "      <td>1017.2400</td>\n",
       "      <td>1033.29</td>\n",
       "    </tr>\n",
       "    <tr>\n",
       "      <th>RH</th>\n",
       "      <td>8500.0</td>\n",
       "      <td>73.354868</td>\n",
       "      <td>14.628062</td>\n",
       "      <td>25.56</td>\n",
       "      <td>63.3800</td>\n",
       "      <td>75.025</td>\n",
       "      <td>84.9200</td>\n",
       "      <td>100.16</td>\n",
       "    </tr>\n",
       "    <tr>\n",
       "      <th>EP</th>\n",
       "      <td>8500.0</td>\n",
       "      <td>454.338720</td>\n",
       "      <td>17.068370</td>\n",
       "      <td>420.26</td>\n",
       "      <td>439.7275</td>\n",
       "      <td>451.440</td>\n",
       "      <td>468.4300</td>\n",
       "      <td>495.76</td>\n",
       "    </tr>\n",
       "  </tbody>\n",
       "</table>\n",
       "</div>"
      ],
      "text/plain": [
       "     count         mean        std     min        25%       50%        75%  \\\n",
       "AT  8500.0    19.656261   7.451720    1.81    13.5275    20.360    25.7125   \n",
       "V   8500.0    54.310672  12.699757   25.36    41.7400    52.080    66.5400   \n",
       "AP  8500.0  1013.254513   5.936605  992.89  1009.1175  1012.945  1017.2400   \n",
       "RH  8500.0    73.354868  14.628062   25.56    63.3800    75.025    84.9200   \n",
       "EP  8500.0   454.338720  17.068370  420.26   439.7275   451.440   468.4300   \n",
       "\n",
       "        max  \n",
       "AT    35.77  \n",
       "V     80.25  \n",
       "AP  1033.29  \n",
       "RH   100.16  \n",
       "EP   495.76  "
      ]
     },
     "execution_count": 6,
     "metadata": {},
     "output_type": "execute_result"
    }
   ],
   "source": [
    "train_df.drop(columns=['ID']).describe().T"
   ]
  },
  {
   "cell_type": "code",
   "execution_count": 7,
   "id": "241f6ddc",
   "metadata": {},
   "outputs": [
    {
     "data": {
      "text/plain": [
       "ID    0\n",
       "AT    0\n",
       "V     0\n",
       "AP    0\n",
       "RH    0\n",
       "EP    0\n",
       "dtype: int64"
      ]
     },
     "execution_count": 7,
     "metadata": {},
     "output_type": "execute_result"
    }
   ],
   "source": [
    "train_df.isnull().sum()"
   ]
  },
  {
   "cell_type": "code",
   "execution_count": 8,
   "id": "d14340c7",
   "metadata": {},
   "outputs": [
    {
     "data": {
      "image/png": "[encoded data removed]",
      "text/plain": [
       "<Figure size 1080x1080 with 4 Axes>"
      ]
     },
     "metadata": {
      "needs_background": "light"
     },
     "output_type": "display_data"
    }
   ],
   "source": [
    "fig, axes = plt.subplots(2, 2)\n",
    "fig.set_figwidth(15)\n",
    "fig.set_figheight(15)\n",
    "sns.boxplot(x='AT', data=train_df, ax=axes[0,0])\n",
    "sns.boxplot(x='V', data=train_df, ax=axes[0,1])\n",
    "sns.boxplot(x='AP', data=train_df, ax=axes[1,0])\n",
    "sns.boxplot(x='RH', data=train_df, ax=axes[1,1])\n",
    "plt.show()"
   ]
  },
  {
   "cell_type": "code",
   "execution_count": 9,
   "id": "ad077cf3",
   "metadata": {},
   "outputs": [
    {
     "data": {
      "image/png": "[encoded data removed]",
      "text/plain": [
       "<Figure size 864x720 with 2 Axes>"
      ]
     },
     "metadata": {
      "needs_background": "light"
     },
     "output_type": "display_data"
    }
   ],
   "source": [
    "plt.figure(figsize=(12,10))\n",
    "corr = train_df.drop(columns=['ID']).corr()\n",
    "mask = np.triu(np.ones_like(corr, dtype=bool))\n",
    "sns.heatmap(corr, mask=mask,  center=0, linewidths=1, annot=True, fmt=\".3f\")\n",
    "plt.show()"
   ]
  },
  {
   "cell_type": "code",
   "execution_count": 10,
   "id": "e75672bf",
   "metadata": {
    "scrolled": false
   },
   "outputs": [
    {
     "data": {
      "image/png": "[encoded data removed]",
      "text/plain": [
       "<Figure size 1008x432 with 1 Axes>"
      ]
     },
     "metadata": {
      "needs_background": "light"
     },
     "output_type": "display_data"
    }
   ],
   "source": [
    "plt.figure(figsize=(14, 6))\n",
    "sns.lineplot(data=train_df, x=train_df.AT, y=train_df.EP)\n",
    "plt.show()"
   ]
  },
  {
   "cell_type": "code",
   "execution_count": 11,
   "id": "4e597e46",
   "metadata": {},
   "outputs": [],
   "source": [
    "X, y = train_df.drop(columns=['ID', 'EP']), train_df.EP\n",
    "train_X, val_X, train_y, val_y = train_test_split(X, y, test_size=0.2, random_state=rs)"
   ]
  },
  {
   "cell_type": "markdown",
   "id": "3406e80f",
   "metadata": {},
   "source": [
    "### LinearRegression"
   ]
  },
  {
   "cell_type": "code",
   "execution_count": 12,
   "id": "56fa13ab",
   "metadata": {},
   "outputs": [],
   "source": [
    "pipe_lr = Pipeline([('lr', LinearRegression())])"
   ]
  },
  {
   "cell_type": "code",
   "execution_count": 13,
   "id": "dc0c8207",
   "metadata": {},
   "outputs": [
    {
     "data": {
      "text/plain": [
       "Pipeline(steps=[('lr', LinearRegression())])"
      ]
     },
     "execution_count": 13,
     "metadata": {},
     "output_type": "execute_result"
    }
   ],
   "source": [
    "pipe_lr.fit(train_X, train_y)"
   ]
  },
  {
   "cell_type": "code",
   "execution_count": 14,
   "id": "cf384817",
   "metadata": {},
   "outputs": [
    {
     "data": {
      "text/plain": [
       "3.6195569844179967"
      ]
     },
     "execution_count": 14,
     "metadata": {},
     "output_type": "execute_result"
    }
   ],
   "source": [
    "predicted_train_y = pipe_lr.predict(train_X)\n",
    "mean_absolute_error(train_y, predicted_train_y)"
   ]
  },
  {
   "cell_type": "code",
   "execution_count": 15,
   "id": "a2829f1c",
   "metadata": {},
   "outputs": [
    {
     "data": {
      "text/plain": [
       "0.9290962969612662"
      ]
     },
     "execution_count": 15,
     "metadata": {},
     "output_type": "execute_result"
    }
   ],
   "source": [
    "r2_score(train_y, predicted_train_y)"
   ]
  },
  {
   "cell_type": "code",
   "execution_count": 16,
   "id": "70978112",
   "metadata": {},
   "outputs": [
    {
     "data": {
      "text/plain": [
       "3.5997505585367686"
      ]
     },
     "execution_count": 16,
     "metadata": {},
     "output_type": "execute_result"
    }
   ],
   "source": [
    "predicted_val_y = pipe_lr.predict(val_X)\n",
    "mean_absolute_error(val_y, predicted_val_y)"
   ]
  },
  {
   "cell_type": "code",
   "execution_count": 17,
   "id": "aaad60a4",
   "metadata": {},
   "outputs": [
    {
     "data": {
      "text/plain": [
       "0.9269520225932092"
      ]
     },
     "execution_count": 17,
     "metadata": {},
     "output_type": "execute_result"
    }
   ],
   "source": [
    "r2_score(val_y, predicted_val_y)"
   ]
  },
  {
   "cell_type": "markdown",
   "id": "db490498",
   "metadata": {},
   "source": [
    "### RandomForestRegressor"
   ]
  },
  {
   "cell_type": "code",
   "execution_count": 18,
   "id": "3f66fd66",
   "metadata": {},
   "outputs": [
    {
     "data": {
      "text/plain": [
       "Pipeline(steps=[('mm', MinMaxScaler()),\n",
       "                ('rf', RandomForestRegressor(random_state=42))])"
      ]
     },
     "execution_count": 18,
     "metadata": {},
     "output_type": "execute_result"
    }
   ],
   "source": [
    "pipe_rf = Pipeline([('mm', MinMaxScaler()), ('rf', RandomForestRegressor(random_state=rs))])\n",
    "pipe_rf.fit(train_X, train_y)"
   ]
  },
  {
   "cell_type": "code",
   "execution_count": 19,
   "id": "1b1ecdc3",
   "metadata": {},
   "outputs": [
    {
     "data": {
      "text/plain": [
       "0.8939208382352952"
      ]
     },
     "execution_count": 19,
     "metadata": {},
     "output_type": "execute_result"
    }
   ],
   "source": [
    "predicted_train_y = pipe_rf.predict(train_X)\n",
    "mean_absolute_error(train_y, predicted_train_y)"
   ]
  },
  {
   "cell_type": "code",
   "execution_count": 20,
   "id": "9be4a0a1",
   "metadata": {},
   "outputs": [
    {
     "data": {
      "text/plain": [
       "2.3592647058823477"
      ]
     },
     "execution_count": 20,
     "metadata": {},
     "output_type": "execute_result"
    }
   ],
   "source": [
    "predicted_val_y = pipe_rf.predict(val_X)\n",
    "mean_absolute_error(val_y, predicted_val_y)"
   ]
  },
  {
   "cell_type": "code",
   "execution_count": 21,
   "id": "9e1ef152",
   "metadata": {},
   "outputs": [
    {
     "name": "stdout",
     "output_type": "stream",
     "text": [
      "2.358404455882349\n",
      "2.357383966042777\n",
      "2.3592647058823477\n"
     ]
    }
   ],
   "source": [
    "for d in [31, 30, 60]:\n",
    "    pipe_rf = Pipeline([('mm', MinMaxScaler()), ('rf', RandomForestRegressor(random_state=rs, max_depth=d, n_estimators=100))])\n",
    "    pipe_rf.fit(train_X, train_y)\n",
    "    predicted_val_y = pipe_rf.predict(val_X)\n",
    "    print(mean_absolute_error(val_y, predicted_val_y))"
   ]
  },
  {
   "cell_type": "code",
   "execution_count": 22,
   "id": "5ea900d2",
   "metadata": {},
   "outputs": [
    {
     "data": {
      "text/plain": [
       "Pipeline(steps=[('mm', MinMaxScaler()),\n",
       "                ('rf', RandomForestRegressor(max_depth=30, random_state=42))])"
      ]
     },
     "execution_count": 22,
     "metadata": {},
     "output_type": "execute_result"
    }
   ],
   "source": [
    "pipe = Pipeline([('mm', MinMaxScaler()), ('rf', RandomForestRegressor(random_state=rs, max_depth=30, n_estimators=100))])\n",
    "pipe.fit(train_X, train_y)"
   ]
  },
  {
   "cell_type": "code",
   "execution_count": 23,
   "id": "27de3054",
   "metadata": {},
   "outputs": [
    {
     "data": {
      "text/plain": [
       "array([477.9078, 442.4564, 450.8292, ..., 456.9636, 434.1394, 480.4148])"
      ]
     },
     "execution_count": 23,
     "metadata": {},
     "output_type": "execute_result"
    }
   ],
   "source": [
    "test_X = test_df.drop(columns=['ID'])\n",
    "predicted_test_y = pipe.predict(test_X)\n",
    "predicted_test_y "
   ]
  },
  {
   "cell_type": "code",
   "execution_count": 24,
   "id": "ba61f7e7",
   "metadata": {},
   "outputs": [
    {
     "data": {
      "text/html": [
       "<div>\n",
       "<style scoped>\n",
       "    .dataframe tbody tr th:only-of-type {\n",
       "        vertical-align: middle;\n",
       "    }\n",
       "\n",
       "    .dataframe tbody tr th {\n",
       "        vertical-align: top;\n",
       "    }\n",
       "\n",
       "    .dataframe thead th {\n",
       "        text-align: right;\n",
       "    }\n",
       "</style>\n",
       "<table border=\"1\" class=\"dataframe\">\n",
       "  <thead>\n",
       "    <tr style=\"text-align: right;\">\n",
       "      <th></th>\n",
       "      <th>ID</th>\n",
       "      <th>EP</th>\n",
       "    </tr>\n",
       "  </thead>\n",
       "  <tbody>\n",
       "    <tr>\n",
       "      <th>0</th>\n",
       "      <td>8501</td>\n",
       "      <td>477.9078</td>\n",
       "    </tr>\n",
       "    <tr>\n",
       "      <th>1</th>\n",
       "      <td>8502</td>\n",
       "      <td>442.4564</td>\n",
       "    </tr>\n",
       "    <tr>\n",
       "      <th>2</th>\n",
       "      <td>8503</td>\n",
       "      <td>450.8292</td>\n",
       "    </tr>\n",
       "    <tr>\n",
       "      <th>3</th>\n",
       "      <td>8504</td>\n",
       "      <td>483.8396</td>\n",
       "    </tr>\n",
       "    <tr>\n",
       "      <th>4</th>\n",
       "      <td>8505</td>\n",
       "      <td>435.2799</td>\n",
       "    </tr>\n",
       "    <tr>\n",
       "      <th>...</th>\n",
       "      <td>...</td>\n",
       "      <td>...</td>\n",
       "    </tr>\n",
       "    <tr>\n",
       "      <th>1063</th>\n",
       "      <td>9564</td>\n",
       "      <td>432.5219</td>\n",
       "    </tr>\n",
       "    <tr>\n",
       "      <th>1064</th>\n",
       "      <td>9565</td>\n",
       "      <td>437.6256</td>\n",
       "    </tr>\n",
       "    <tr>\n",
       "      <th>1065</th>\n",
       "      <td>9566</td>\n",
       "      <td>456.9636</td>\n",
       "    </tr>\n",
       "    <tr>\n",
       "      <th>1066</th>\n",
       "      <td>9567</td>\n",
       "      <td>434.1394</td>\n",
       "    </tr>\n",
       "    <tr>\n",
       "      <th>1067</th>\n",
       "      <td>9568</td>\n",
       "      <td>480.4148</td>\n",
       "    </tr>\n",
       "  </tbody>\n",
       "</table>\n",
       "<p>1068 rows × 2 columns</p>\n",
       "</div>"
      ],
      "text/plain": [
       "        ID        EP\n",
       "0     8501  477.9078\n",
       "1     8502  442.4564\n",
       "2     8503  450.8292\n",
       "3     8504  483.8396\n",
       "4     8505  435.2799\n",
       "...    ...       ...\n",
       "1063  9564  432.5219\n",
       "1064  9565  437.6256\n",
       "1065  9566  456.9636\n",
       "1066  9567  434.1394\n",
       "1067  9568  480.4148\n",
       "\n",
       "[1068 rows x 2 columns]"
      ]
     },
     "execution_count": 24,
     "metadata": {},
     "output_type": "execute_result"
    }
   ],
   "source": [
    "submission_df = pd.DataFrame({'ID': test_df.ID, 'EP': predicted_test_y})\n",
    "submission_df"
   ]
  },
  {
   "cell_type": "code",
   "execution_count": 25,
   "id": "59facd47",
   "metadata": {},
   "outputs": [],
   "source": [
    "#submission_df.to_csv(submission_path, index=False)"
   ]
  }
 ],
 "metadata": {
  "kernelspec": {
   "display_name": "Python 3 (ipykernel)",
   "language": "python",
   "name": "python3"
  },
  "language_info": {
   "codemirror_mode": {
    "name": "ipython",
    "version": 3
   },
   "file_extension": ".py",
   "mimetype": "text/x-python",
   "name": "python",
   "nbconvert_exporter": "python",
   "pygments_lexer": "ipython3",
   "version": "3.9.7"
  }
 },
 "nbformat": 4,
 "nbformat_minor": 5
}
